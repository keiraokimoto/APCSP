{
 "cells": [
  {
   "cell_type": "markdown",
   "metadata": {},
   "source": [
    "# Bash Tutorial\n",
    "> A brief overview of Bash, on your way to becoming a Linux expert.  When a computer boots up, a kernel (MacOS, Windows, Linux) is started.  This kernel provides a shell that allows user to interact with a most basic set of commands.  Typically, the casual user will not interact with the shell as a Desktop User Interface is started by the computer boot up process.  To activate the shell directly, users will run a \"terminal\" through the Desktop, VS Code or activate \"console\" while on a cloud computer like AWS.\n",
    "\n",
    "- toc: true\n",
    "- comments: true\n",
    "- permalink: /techtalk/bash\n",
    "- image: /images/bash.jpeg\n",
    "- categories: [5.A]\n",
    "- type: pbl\n",
    "- week: 1"
   ]
  },
  {
   "cell_type": "markdown",
   "metadata": {},
   "source": [
    "## Prerequisites for Bash on Jupyter\n",
    "> Being able to find a Bash Reference.  Here is a [Bash Cheat Sheet](https://www.pcwdld.com/bash-cheat-sheet)\n",
    "\n",
    "> Install the Bash Kernel for Jupyter notebooks.  Expectations are pip3 and python3 are defined within the path.  The bash shell allowed construction of this tutorial.\n",
    "\n",
    "- pip install bash_kernel\n",
    "- python -m bash_kernel.install\n",
    "\n",
    "Selecting a kernel in \"code --project--\" or \"jupyter notebook --file.ipynb--\" that have bash in options.\n",
    "![](images/kernels.png)\n"
   ]
  },
  {
   "cell_type": "markdown",
   "metadata": {},
   "source": [
    "## Prerequisites for Project Directory\n",
    "> Practice pulling code from git to your machine. This will create a project directory and add APCSP github project to the directory.  There is conditional logic to make sure that directory and pull only happen if it does not (!) exist.\n",
    "\n",
    "- Hack: Change variables, make new directory, clone to that directory."
   ]
  },
  {
   "cell_type": "code",
   "execution_count": 2,
   "metadata": {
    "vscode": {
     "languageId": "shellscript"
    }
   },
   "outputs": [
    {
     "name": "stdout",
     "output_type": "stream",
     "text": [
      "Using conditional statement to create a project directory and project\n",
      "Directory /home/keira/vscode exists.\n",
      "Directory /home/keira/vscode/APCSP exists.\n"
     ]
    }
   ],
   "source": [
    "echo \"Using conditional statement to create a project directory and project\"\n",
    "\n",
    "# Variable section\n",
    "export project_dir=$HOME/vscode  # change vscode to different name to test git clone\n",
    "export project=$project_dir/APCSP  # change APCSP to name of project from git clone\n",
    "export project_repo=\"https://github.com/nighthawkcoders/APCSP.git\"  # change to project of choice\n",
    "\n",
    "cd ~    # start in home directory\n",
    "\n",
    "# Conditional block to make a project directory\n",
    "if [ ! -d $project_dir ]\n",
    "then \n",
    "    echo \"Directory $project_dir does not exists... makinng directory $project_dir\"\n",
    "    mkdir -p $project_dir\n",
    "fi\n",
    "echo \"Directory $project_dir exists.\" \n",
    "\n",
    "# Conditional block to git clone a project from project_repo\n",
    "if [ ! -d $project ]\n",
    "then\n",
    "    echo \"Directory $project does not exists... cloning $project_repo\"\n",
    "    cd $project_dir\n",
    "    git clone $project_repo\n",
    "    cd ~\n",
    "fi\n",
    "echo \"Directory $project exists.\" "
   ]
  },
  {
   "cell_type": "markdown",
   "metadata": {},
   "source": [
    "### Look inside Fastpages/Github page project\n",
    "> All computers contain files and directories.  The clone brought more files from cloud to your machine.  Using the bash shell you will see some commands that show and interact with files and directories.\n",
    "\n",
    "- \"ls\" lists computer files in Unix and Unix-like operating systems\n",
    "- \"cd\" offers way to navigate and change working directory\n",
    "- \"pwd\" print working directory\n",
    "- \"echo\" used to display line of text/string that are passed as an argument"
   ]
  },
  {
   "cell_type": "code",
   "execution_count": 5,
   "metadata": {
    "vscode": {
     "languageId": "shellscript"
    }
   },
   "outputs": [
    {
     "name": "stdout",
     "output_type": "stream",
     "text": [
      "Navigate to project, then navigate to area wwhere files were cloned\n",
      "/home/keira/vscode/APCSP\n",
      "\n",
      "list top level or root of files with project pulled from github\n",
      "\u001b[0m\u001b[01;32mGemfile\u001b[0m    \u001b[01;34m_action_files\u001b[0m    \u001b[01;34m_layouts\u001b[0m    \u001b[01;34m_posts\u001b[0m  \u001b[01;32mdocker-compose.yml\u001b[0m\n",
      "LICENSE    _config.yml      \u001b[01;34m_notebooks\u001b[0m  \u001b[01;34m_sass\u001b[0m   \u001b[01;34mimages\u001b[0m\n",
      "\u001b[01;32mMakefile\u001b[0m   \u001b[01;34m_fastpages_docs\u001b[0m  \u001b[01;34m_pages\u001b[0m      \u001b[01;34m_word\u001b[0m   index.html\n",
      "\u001b[01;32mREADME.md\u001b[0m  \u001b[01;34m_includes\u001b[0m        \u001b[01;34m_plugins\u001b[0m    \u001b[01;34massets\u001b[0m  \u001b[01;34mpython\u001b[0m\n",
      "\n",
      "list again with hidden files pulled from github\n",
      "\u001b[0m\u001b[01;34m.\u001b[0m                   .gitignore  \u001b[01;34m_action_files\u001b[0m    \u001b[01;34m_pages\u001b[0m    \u001b[01;32mdocker-compose.yml\u001b[0m\n",
      "\u001b[01;34m..\u001b[0m                  \u001b[01;34m.vscode\u001b[0m     _config.yml      \u001b[01;34m_plugins\u001b[0m  \u001b[01;34mimages\u001b[0m\n",
      ".devcontainer.json  \u001b[01;32mGemfile\u001b[0m     \u001b[01;34m_fastpages_docs\u001b[0m  \u001b[01;34m_posts\u001b[0m    index.html\n",
      "\u001b[01;34m.git\u001b[0m                LICENSE     \u001b[01;34m_includes\u001b[0m        \u001b[01;34m_sass\u001b[0m     \u001b[01;34mpython\u001b[0m\n",
      ".gitattributes      \u001b[01;32mMakefile\u001b[0m    \u001b[01;34m_layouts\u001b[0m         \u001b[01;34m_word\u001b[0m\n",
      "\u001b[01;34m.github\u001b[0m             \u001b[01;32mREADME.md\u001b[0m   \u001b[01;34m_notebooks\u001b[0m       \u001b[01;34massets\u001b[0m\n",
      "\n",
      "list all files in long format\n",
      "total 120\n",
      "drwxr-xr-x 18 keira keira  4096 Aug 25 11:49 \u001b[0m\u001b[01;34m.\u001b[0m\n",
      "drwxr-xr-x  3 keira keira  4096 Aug 25 11:48 \u001b[01;34m..\u001b[0m\n",
      "-rw-r--r--  1 keira keira   420 Aug 25 11:49 .devcontainer.json\n",
      "drwxr-xr-x  8 keira keira  4096 Aug 25 11:49 \u001b[01;34m.git\u001b[0m\n",
      "-rw-r--r--  1 keira keira    84 Aug 25 11:49 .gitattributes\n",
      "drwxr-xr-x  4 keira keira  4096 Aug 25 11:49 \u001b[01;34m.github\u001b[0m\n",
      "-rw-r--r--  1 keira keira   917 Aug 25 11:49 .gitignore\n",
      "drwxr-xr-x  2 keira keira  4096 Aug 25 11:49 \u001b[01;34m.vscode\u001b[0m\n",
      "-rwxr-xr-x  1 keira keira  1304 Aug 25 11:49 \u001b[01;32mGemfile\u001b[0m\n",
      "-rw-r--r--  1 keira keira 11351 Aug 25 11:49 LICENSE\n",
      "-rwxr-xr-x  1 keira keira  1422 Aug 25 11:49 \u001b[01;32mMakefile\u001b[0m\n",
      "-rwxr-xr-x  1 keira keira  3614 Aug 25 11:49 \u001b[01;32mREADME.md\u001b[0m\n",
      "drwxr-xr-x  2 keira keira  4096 Aug 25 11:49 \u001b[01;34m_action_files\u001b[0m\n",
      "-rw-r--r--  1 keira keira  3716 Aug 25 11:49 _config.yml\n",
      "drwxr-xr-x  2 keira keira  4096 Aug 25 11:49 \u001b[01;34m_fastpages_docs\u001b[0m\n",
      "drwxr-xr-x  2 keira keira  4096 Aug 25 11:49 \u001b[01;34m_includes\u001b[0m\n",
      "drwxr-xr-x  2 keira keira  4096 Aug 25 11:49 \u001b[01;34m_layouts\u001b[0m\n",
      "drwxr-xr-x  3 keira keira  4096 Aug 25 11:49 \u001b[01;34m_notebooks\u001b[0m\n",
      "drwxr-xr-x  2 keira keira  4096 Aug 25 11:49 \u001b[01;34m_pages\u001b[0m\n",
      "drwxr-xr-x  2 keira keira  4096 Aug 25 11:49 \u001b[01;34m_plugins\u001b[0m\n",
      "drwxr-xr-x  2 keira keira  4096 Aug 25 11:49 \u001b[01;34m_posts\u001b[0m\n",
      "drwxr-xr-x  3 keira keira  4096 Aug 25 11:49 \u001b[01;34m_sass\u001b[0m\n",
      "drwxr-xr-x  2 keira keira  4096 Aug 25 11:49 \u001b[01;34m_word\u001b[0m\n",
      "drwxr-xr-x  4 keira keira  4096 Aug 25 11:49 \u001b[01;34massets\u001b[0m\n",
      "-rwxr-xr-x  1 keira keira  1136 Aug 25 11:49 \u001b[01;32mdocker-compose.yml\u001b[0m\n",
      "drwxr-xr-x  5 keira keira  4096 Aug 25 11:49 \u001b[01;34mimages\u001b[0m\n",
      "-rw-r--r--  1 keira keira  1061 Aug 25 11:49 index.html\n",
      "drwxr-xr-x  2 keira keira  4096 Aug 25 11:49 \u001b[01;34mpython\u001b[0m\n"
     ]
    }
   ],
   "source": [
    "# You must run cells above to define variable and project\n",
    "\n",
    "echo \"Navigate to project, then navigate to area wwhere files were cloned\"\n",
    "cd $project\n",
    "pwd\n",
    "\n",
    "echo \"\"\n",
    "echo \"list top level or root of files with project pulled from github\"\n",
    "ls\n",
    "\n",
    "echo \"\"\n",
    "echo \"list again with hidden files pulled from github\"\n",
    "ls -a   # hidden files flag, many shell commands have flags\n",
    "\n",
    "echo \"\"\n",
    "echo \"list all files in long format\"\n",
    "ls -al   # all files and long listing"
   ]
  },
  {
   "cell_type": "code",
   "execution_count": 6,
   "metadata": {
    "vscode": {
     "languageId": "shellscript"
    }
   },
   "outputs": [
    {
     "name": "stdout",
     "output_type": "stream",
     "text": [
      "Look for posts\n",
      "/home/keira/vscode/APCSP/_posts\n",
      "total 228\n",
      "-rw-r--r-- 1 keira keira 21306 Aug 25 11:49 2022-06-01-TT160-deploy.md\n",
      "-rw-r--r-- 1 keira keira  5861 Aug 25 11:49 2022-07-07-PBL-binary.md\n",
      "-rw-r--r-- 1 keira keira  3085 Aug 25 11:49 2022-07-08-PBL-grade_calc.md\n",
      "-rw-r--r-- 1 keira keira  3698 Aug 25 11:49 2022-07-08-PBL-graph.md\n",
      "-rw-r--r-- 1 keira keira  5729 Aug 25 11:49 2022-07-08-PBL-life.md\n",
      "-rw-r--r-- 1 keira keira 14387 Aug 25 11:49 2022-07-08-PBL-snake.md\n",
      "-rw-r--r-- 1 keira keira   334 Aug 25 11:49 2022-07-10-PBL-database.md\n",
      "-rw-r--r-- 1 keira keira  2908 Aug 25 11:49 2022-07-10-PBL-jokes.md\n",
      "-rw-r--r-- 1 keira keira  4046 Aug 25 11:49 2022-07-10-PBL-rapidapi.md\n",
      "-rw-r--r-- 1 keira keira  6685 Aug 25 11:49 2022-07-19-PBL-calculator.md\n",
      "-rw-r--r-- 1 keira keira 23325 Aug 25 11:49 2022-07-25-CSP-workshop.md\n",
      "-rw-r--r-- 1 keira keira  2333 Aug 25 11:49 2022-08-15-TP000-student_score_history.md\n",
      "-rw-r--r-- 1 keira keira  4363 Aug 25 11:49 2022-08-15-TP100-pseudo_code.md\n",
      "-rw-r--r-- 1 keira keira  7968 Aug 25 11:49 2022-08-15-TR100-tool_setup.md\n",
      "-rw-r--r-- 1 keira keira 15026 Aug 25 11:49 2022-08-15-TT100-tools.md\n",
      "-rw-r--r-- 1 keira keira  5590 Aug 25 11:49 2022-08-15-TT101-vscode-wsl.md\n",
      "-rw-r--r-- 1 keira keira  2155 Aug 25 11:49 2022-08-22-TR110-intro_python.md\n",
      "-rw-r--r-- 1 keira keira  5173 Aug 25 11:49 2022-08-22-TT110-fastpages.md\n",
      "-rw-r--r-- 1 keira keira  2798 Aug 25 11:49 2022-08-22-TT110-focus.md\n",
      "-rw-r--r-- 1 keira keira  2737 Aug 25 11:49 2022-08-29-TR120-data_abstract.md\n",
      "-rw-r--r-- 1 keira keira 10683 Aug 25 11:49 2022-08-29-TT120-agile.md\n",
      "-rw-r--r-- 1 keira keira  4498 Aug 25 11:49 2022-08-29-TT120-html_fragments.md\n",
      "-rw-r--r-- 1 keira keira  9037 Aug 25 11:49 2022-09-05-TP130-create_performance_task.md\n",
      "-rw-r--r-- 1 keira keira  7753 Aug 25 11:49 2022-09-05-TP131-create-task-bria.md\n",
      "-rw-r--r-- 1 keira keira  8066 Aug 25 11:49 2022-09-05-TR130-creative_development.md\n",
      "-rw-r--r-- 1 keira keira  3520 Aug 25 11:49 2022-09-05-TT130-applab.md\n",
      "-rw-r--r-- 1 keira keira   720 Aug 25 11:49 README.md\n"
     ]
    }
   ],
   "source": [
    "# You must run cells above to define variable and project\n",
    "\n",
    "echo \"Look for posts\"\n",
    "export posts=$project/_posts  # _posts inside project\n",
    "cd $posts  # this should exist per fastpages\n",
    "pwd  # present working directory\n",
    "ls -l  # list posts"
   ]
  },
  {
   "cell_type": "code",
   "execution_count": null,
   "metadata": {
    "vscode": {
     "languageId": "shellscript"
    }
   },
   "outputs": [],
   "source": [
    "# You must run cells above to define variable and project\n",
    "\n",
    "echo \"Look for notebooks\"\n",
    "export notebooks=$project/_notebooks  # _notebooks is inside project\n",
    "cd $notebooks   # this should exist per fastpages\n",
    "pwd  # present working directory\n",
    "ls -l  # list notebooks"
   ]
  },
  {
   "cell_type": "code",
   "execution_count": null,
   "metadata": {
    "vscode": {
     "languageId": "shellscript"
    }
   },
   "outputs": [],
   "source": [
    "# You must run cells above to define notebooks location\n",
    "\n",
    "echo \"Look for images in notebooks, print working directory, list files\"\n",
    "cd $notebooks/images  # this should exist per fastpages\n",
    "pwd\n",
    "ls -l"
   ]
  },
  {
   "cell_type": "markdown",
   "metadata": {},
   "source": [
    "### Look inside a Markdown File\n",
    "> \"cat\" reads data from the file and gives its content as output"
   ]
  },
  {
   "cell_type": "code",
   "execution_count": null,
   "metadata": {
    "vscode": {
     "languageId": "shellscript"
    }
   },
   "outputs": [],
   "source": [
    "# You must run cells above to define project\n",
    "echo \"Navigate to project, then navigate to area wwhere files were cloned\"\n",
    "\n",
    "cd $project\n",
    "echo \"show the contents of README.md\"\n",
    "echo \"\"\n",
    "\n",
    "cat README.md  # show contents of file, in this case markdown\n",
    "echo \"\"\n",
    "echo \"end of README.md\"\n"
   ]
  },
  {
   "cell_type": "markdown",
   "metadata": {},
   "source": [
    "### Env, Git and GitHub\n",
    "> Env(ironment) is used to capture things like path to Code or Home directory.  Git and GitHub is NOT Only used to exchange code between individuals, it is often used to exchange code through servers, in our case deployment for Website.   All tools we use have a behind the scenes hav relationship with the system they run on (MacOS, Windows, Linus) or a relationship with servers which they are connected to (ie GitHub).  There is an \"env\" command in bash.  There are environment files and setting files (.git/config) for Git.  They both use a key/value concept.\n",
    "\n",
    "- \"env\" show setting for your shell\n",
    "- \"git clone\" sets up a director of files\n",
    "- \"cd $project\" allows user to move inside that directory of files\n",
    "- \".git\" is a hidden directory that is used by git to establish relationship between machine and the git server on GitHub.  "
   ]
  },
  {
   "cell_type": "code",
   "execution_count": null,
   "metadata": {
    "vscode": {
     "languageId": "shellscript"
    }
   },
   "outputs": [],
   "source": [
    "# This command has no dependencies\n",
    "\n",
    "echo \"Show the shell environment variables, key on left of equal value on right\"\n",
    "echo \"\"\n",
    "\n",
    "env"
   ]
  },
  {
   "cell_type": "code",
   "execution_count": null,
   "metadata": {
    "vscode": {
     "languageId": "shellscript"
    }
   },
   "outputs": [],
   "source": [
    "# This command has dependencies on project\n",
    "\n",
    "cd $project\n",
    "\n",
    "echo \"\"\n",
    "echo \"show the secrets of .git\"\n",
    "cd .git\n",
    "ls -l\n",
    "\n",
    "echo \"\"\n",
    "echo \"look at config file\"\n",
    "cat config"
   ]
  },
  {
   "cell_type": "markdown",
   "metadata": {},
   "source": [
    "### Student Request - Make a file in Bash\n",
    "> This example was requested by a student (Jun Lim, CSA). The request was to make jupyer file using bash, I adapted the request to markdown.  This type of thought will have great extrapolation to coding and possibilities of using List, Arrays, or APIs to build user interfaces.  JavaScript is a language where building HTML is very common.\n",
    "\n",
    "> To get more interesting output from terminal, this will require using something like mdless (https://github.com/ttscoff/mdless).  This enables see markdown in rendered format.\n",
    "- On Desktop [Install PKG from MacPorts](https://www.macports.org/install.php)\n",
    "- In Terminal on MacOS\n",
    "    - [Install ncurses](https://ports.macports.org/port/ncurses/)\n",
    "    - ```gem install mdless```\n",
    "    \n",
    "> Output of the example is much nicer in \"jupyter\""
   ]
  },
  {
   "cell_type": "code",
   "execution_count": null,
   "metadata": {
    "vscode": {
     "languageId": "shellscript"
    }
   },
   "outputs": [],
   "source": [
    "# This example has error in VSCode, it run best on Jupyter\n",
    "cd /tmp\n",
    "\n",
    "file=\"sample.md\"\n",
    "if [ -f \"$file\" ]; then\n",
    "    rm $file\n",
    "fi\n",
    "\n",
    "tee -a $file >/dev/null <<EOF\n",
    "# Show Generated Markdown\n",
    "This introductory paragraph and this line and the title above are generated using tee with the standard input (<<) redirection operator.\n",
    "- This bulleted element is still part of the tee body.\n",
    "EOF\n",
    "\n",
    "echo \"- This bulleted element and lines below are generated using echo with standard output (>>) redirection operator.\" >> $file\n",
    "echo \"- The list definition, as is, is using space to seperate lines.  Thus the use of commas and hyphens in output.\" >> $file\n",
    "actions=(\"ls,list-directory\" \"cd,change-directory\" \"pwd,present-working-directory\" \"if-then-fi,test-condition\" \"env,bash-environment-variables\" \"cat,view-file-contents\" \"tee,write-to-output\" \"echo,display-content-of-string\" \"echo_text_>\\$file,write-content-to-file\" \"echo_text_>>\\$file,append-content-to-file\")\n",
    "for action in ${actions[@]}; do  # for loop is very similar to other language, though [@], semi-colon, do are new\n",
    "  action=${action//-/ }  # convert dash to space\n",
    "  action=${action//,/: } # convert comma to colon\n",
    "  action=${action//_text_/ \\\"sample text\\\" } # convert _text_ to sample text, note escape character \\ to avoid \"\" having meaning\n",
    "  echo \"    - ${action//-/ }\" >> $file  # echo is redirected to file with >>\n",
    "done\n",
    "\n",
    "echo \"\"\n",
    "echo \"File listing and status\"\n",
    "ls -l $file # list file\n",
    "wc $file   # show words\n",
    "mdless $file  # this requires installation, but renders markown from terminal\n",
    "\n",
    "rm $file  # clean up termporary file"
   ]
  },
  {
   "cell_type": "markdown",
   "metadata": {},
   "source": [
    "## Hacks\n",
    "> Go back to some of the deployment procedures and think about some thing you could verify through Bash notebook.\n",
    "\n",
    "- Is there anything we use to verify tools we install? Think about versions.\n",
    "- Is there anything we could verify with Anaconda?\n",
    "- How would you update a repository?\n",
    "- Really cool would be automating a procedure from installation.\n"
   ]
  },
  {
   "cell_type": "code",
   "execution_count": null,
   "metadata": {},
   "outputs": [],
   "source": []
  }
 ],
 "metadata": {
  "kernelspec": {
   "display_name": "Bash",
   "language": "bash",
   "name": "bash"
  },
  "language_info": {
   "codemirror_mode": "shell",
   "file_extension": ".sh",
   "mimetype": "text/x-sh",
   "name": "bash"
  },
  "vscode": {
   "interpreter": {
    "hash": "8b82d5009c68ba5675978267e2b13a671f2a7143d61273c5a3813c97e0b2493d"
   }
  }
 },
 "nbformat": 4,
 "nbformat_minor": 2
}
